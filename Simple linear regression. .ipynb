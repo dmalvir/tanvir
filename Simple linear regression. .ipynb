{
 "cells": [
  {
   "cell_type": "code",
   "execution_count": 1,
   "id": "56ce4542",
   "metadata": {},
   "outputs": [],
   "source": [
    "# Import the relevant libraries"
   ]
  },
  {
   "cell_type": "code",
   "execution_count": 2,
   "id": "ecf903b1",
   "metadata": {},
   "outputs": [],
   "source": [
    "import numpy as np  \n",
    "import matplotlib.pyplot as plt\n",
    "from mpl_toolkits.mplot3d import Axes3D"
   ]
  },
  {
   "cell_type": "code",
   "execution_count": 3,
   "id": "86ab9d19",
   "metadata": {},
   "outputs": [],
   "source": [
    "# Generate random input data to train on"
   ]
  },
  {
   "cell_type": "code",
   "execution_count": 4,
   "id": "03dbf7ce",
   "metadata": {},
   "outputs": [],
   "source": [
    "observations = 1000"
   ]
  },
  {
   "cell_type": "code",
   "execution_count": 5,
   "id": "30fc01dc",
   "metadata": {},
   "outputs": [],
   "source": [
    "xs = np.random.uniform(low=-10, high=10, size=(observations,1))\n",
    "zs = np.random.uniform(-10, 10, (observations,1))"
   ]
  },
  {
   "cell_type": "code",
   "execution_count": 6,
   "id": "d3f42fbc",
   "metadata": {},
   "outputs": [],
   "source": [
    "inputs = np.column_stack((xs,zs))"
   ]
  },
  {
   "cell_type": "code",
   "execution_count": 7,
   "id": "4e6eb1ff",
   "metadata": {},
   "outputs": [
    {
     "name": "stdout",
     "output_type": "stream",
     "text": [
      "(1000, 2)\n"
     ]
    }
   ],
   "source": [
    "print(inputs.shape)"
   ]
  },
  {
   "cell_type": "code",
   "execution_count": 8,
   "id": "39b622b9",
   "metadata": {},
   "outputs": [],
   "source": [
    "# Generate the targets"
   ]
  },
  {
   "cell_type": "code",
   "execution_count": 9,
   "id": "c0d43eea",
   "metadata": {},
   "outputs": [],
   "source": [
    "noise = np.random.uniform(-1, 1, (observations,1))"
   ]
  },
  {
   "cell_type": "code",
   "execution_count": 10,
   "id": "df1ede6f",
   "metadata": {},
   "outputs": [],
   "source": [
    "targets = 2*xs - 3*zs + 5 + noise"
   ]
  },
  {
   "cell_type": "code",
   "execution_count": 12,
   "id": "1ccfb1c8",
   "metadata": {},
   "outputs": [
    {
     "name": "stdout",
     "output_type": "stream",
     "text": [
      "(1000, 1)\n"
     ]
    }
   ],
   "source": [
    "print(targets.shape)"
   ]
  },
  {
   "cell_type": "code",
   "execution_count": 13,
   "id": "d43482a9",
   "metadata": {},
   "outputs": [],
   "source": [
    "# Plot the training data"
   ]
  },
  {
   "cell_type": "code",
   "execution_count": 14,
   "id": "c5420053",
   "metadata": {},
   "outputs": [
    {
     "ename": "ValueError",
     "evalue": "operands could not be broadcast together with remapped shapes [original->remapped]: (1000,)  and requested shape (1000,1)",
     "output_type": "error",
     "traceback": [
      "\u001b[0;31m---------------------------------------------------------------------------\u001b[0m",
      "\u001b[0;31mValueError\u001b[0m                                Traceback (most recent call last)",
      "Input \u001b[0;32mIn [14]\u001b[0m, in \u001b[0;36m<cell line: 4>\u001b[0;34m()\u001b[0m\n\u001b[1;32m      2\u001b[0m fig \u001b[38;5;241m=\u001b[39m plt\u001b[38;5;241m.\u001b[39mfigure()\n\u001b[1;32m      3\u001b[0m ax \u001b[38;5;241m=\u001b[39m fig\u001b[38;5;241m.\u001b[39madd_subplot(\u001b[38;5;241m111\u001b[39m, projection\u001b[38;5;241m=\u001b[39m\u001b[38;5;124m'\u001b[39m\u001b[38;5;124m3d\u001b[39m\u001b[38;5;124m'\u001b[39m)\n\u001b[0;32m----> 4\u001b[0m \u001b[43max\u001b[49m\u001b[38;5;241;43m.\u001b[39;49m\u001b[43mplot\u001b[49m\u001b[43m(\u001b[49m\u001b[43mxs\u001b[49m\u001b[43m,\u001b[49m\u001b[43m \u001b[49m\u001b[43mzs\u001b[49m\u001b[43m,\u001b[49m\u001b[43m \u001b[49m\u001b[43mtargets\u001b[49m\u001b[43m)\u001b[49m\n\u001b[1;32m      5\u001b[0m ax\u001b[38;5;241m.\u001b[39mset_xlabel(\u001b[38;5;124m'\u001b[39m\u001b[38;5;124mxs\u001b[39m\u001b[38;5;124m'\u001b[39m)\n\u001b[1;32m      6\u001b[0m ax\u001b[38;5;241m.\u001b[39mset_ylabel(\u001b[38;5;124m'\u001b[39m\u001b[38;5;124mzs\u001b[39m\u001b[38;5;124m'\u001b[39m)\n",
      "File \u001b[0;32m~/opt/anaconda3/lib/python3.9/site-packages/mpl_toolkits/mplot3d/axes3d.py:1495\u001b[0m, in \u001b[0;36mAxes3D.plot\u001b[0;34m(self, xs, ys, zdir, *args, **kwargs)\u001b[0m\n\u001b[1;32m   1492\u001b[0m     zs \u001b[38;5;241m=\u001b[39m kwargs\u001b[38;5;241m.\u001b[39mpop(\u001b[38;5;124m'\u001b[39m\u001b[38;5;124mzs\u001b[39m\u001b[38;5;124m'\u001b[39m, \u001b[38;5;241m0\u001b[39m)\n\u001b[1;32m   1494\u001b[0m \u001b[38;5;66;03m# Match length\u001b[39;00m\n\u001b[0;32m-> 1495\u001b[0m zs \u001b[38;5;241m=\u001b[39m \u001b[43mnp\u001b[49m\u001b[38;5;241;43m.\u001b[39;49m\u001b[43mbroadcast_to\u001b[49m\u001b[43m(\u001b[49m\u001b[43mzs\u001b[49m\u001b[43m,\u001b[49m\u001b[43m \u001b[49m\u001b[43mnp\u001b[49m\u001b[38;5;241;43m.\u001b[39;49m\u001b[43mshape\u001b[49m\u001b[43m(\u001b[49m\u001b[43mxs\u001b[49m\u001b[43m)\u001b[49m\u001b[43m)\u001b[49m\n\u001b[1;32m   1497\u001b[0m lines \u001b[38;5;241m=\u001b[39m \u001b[38;5;28msuper\u001b[39m()\u001b[38;5;241m.\u001b[39mplot(xs, ys, \u001b[38;5;241m*\u001b[39margs, \u001b[38;5;241m*\u001b[39m\u001b[38;5;241m*\u001b[39mkwargs)\n\u001b[1;32m   1498\u001b[0m \u001b[38;5;28;01mfor\u001b[39;00m line \u001b[38;5;129;01min\u001b[39;00m lines:\n",
      "File \u001b[0;32m<__array_function__ internals>:5\u001b[0m, in \u001b[0;36mbroadcast_to\u001b[0;34m(*args, **kwargs)\u001b[0m\n",
      "File \u001b[0;32m~/opt/anaconda3/lib/python3.9/site-packages/numpy/lib/stride_tricks.py:411\u001b[0m, in \u001b[0;36mbroadcast_to\u001b[0;34m(array, shape, subok)\u001b[0m\n\u001b[1;32m    366\u001b[0m \u001b[38;5;129m@array_function_dispatch\u001b[39m(_broadcast_to_dispatcher, module\u001b[38;5;241m=\u001b[39m\u001b[38;5;124m'\u001b[39m\u001b[38;5;124mnumpy\u001b[39m\u001b[38;5;124m'\u001b[39m)\n\u001b[1;32m    367\u001b[0m \u001b[38;5;28;01mdef\u001b[39;00m \u001b[38;5;21mbroadcast_to\u001b[39m(array, shape, subok\u001b[38;5;241m=\u001b[39m\u001b[38;5;28;01mFalse\u001b[39;00m):\n\u001b[1;32m    368\u001b[0m     \u001b[38;5;124;03m\"\"\"Broadcast an array to a new shape.\u001b[39;00m\n\u001b[1;32m    369\u001b[0m \n\u001b[1;32m    370\u001b[0m \u001b[38;5;124;03m    Parameters\u001b[39;00m\n\u001b[0;32m   (...)\u001b[0m\n\u001b[1;32m    409\u001b[0m \u001b[38;5;124;03m           [1, 2, 3]])\u001b[39;00m\n\u001b[1;32m    410\u001b[0m \u001b[38;5;124;03m    \"\"\"\u001b[39;00m\n\u001b[0;32m--> 411\u001b[0m     \u001b[38;5;28;01mreturn\u001b[39;00m \u001b[43m_broadcast_to\u001b[49m\u001b[43m(\u001b[49m\u001b[43marray\u001b[49m\u001b[43m,\u001b[49m\u001b[43m \u001b[49m\u001b[43mshape\u001b[49m\u001b[43m,\u001b[49m\u001b[43m \u001b[49m\u001b[43msubok\u001b[49m\u001b[38;5;241;43m=\u001b[39;49m\u001b[43msubok\u001b[49m\u001b[43m,\u001b[49m\u001b[43m \u001b[49m\u001b[43mreadonly\u001b[49m\u001b[38;5;241;43m=\u001b[39;49m\u001b[38;5;28;43;01mTrue\u001b[39;49;00m\u001b[43m)\u001b[49m\n",
      "File \u001b[0;32m~/opt/anaconda3/lib/python3.9/site-packages/numpy/lib/stride_tricks.py:348\u001b[0m, in \u001b[0;36m_broadcast_to\u001b[0;34m(array, shape, subok, readonly)\u001b[0m\n\u001b[1;32m    345\u001b[0m     \u001b[38;5;28;01mraise\u001b[39;00m \u001b[38;5;167;01mValueError\u001b[39;00m(\u001b[38;5;124m'\u001b[39m\u001b[38;5;124mall elements of broadcast shape must be non-\u001b[39m\u001b[38;5;124m'\u001b[39m\n\u001b[1;32m    346\u001b[0m                      \u001b[38;5;124m'\u001b[39m\u001b[38;5;124mnegative\u001b[39m\u001b[38;5;124m'\u001b[39m)\n\u001b[1;32m    347\u001b[0m extras \u001b[38;5;241m=\u001b[39m []\n\u001b[0;32m--> 348\u001b[0m it \u001b[38;5;241m=\u001b[39m \u001b[43mnp\u001b[49m\u001b[38;5;241;43m.\u001b[39;49m\u001b[43mnditer\u001b[49m\u001b[43m(\u001b[49m\n\u001b[1;32m    349\u001b[0m \u001b[43m    \u001b[49m\u001b[43m(\u001b[49m\u001b[43marray\u001b[49m\u001b[43m,\u001b[49m\u001b[43m)\u001b[49m\u001b[43m,\u001b[49m\u001b[43m \u001b[49m\u001b[43mflags\u001b[49m\u001b[38;5;241;43m=\u001b[39;49m\u001b[43m[\u001b[49m\u001b[38;5;124;43m'\u001b[39;49m\u001b[38;5;124;43mmulti_index\u001b[39;49m\u001b[38;5;124;43m'\u001b[39;49m\u001b[43m,\u001b[49m\u001b[43m \u001b[49m\u001b[38;5;124;43m'\u001b[39;49m\u001b[38;5;124;43mrefs_ok\u001b[39;49m\u001b[38;5;124;43m'\u001b[39;49m\u001b[43m,\u001b[49m\u001b[43m \u001b[49m\u001b[38;5;124;43m'\u001b[39;49m\u001b[38;5;124;43mzerosize_ok\u001b[39;49m\u001b[38;5;124;43m'\u001b[39;49m\u001b[43m]\u001b[49m\u001b[43m \u001b[49m\u001b[38;5;241;43m+\u001b[39;49m\u001b[43m \u001b[49m\u001b[43mextras\u001b[49m\u001b[43m,\u001b[49m\n\u001b[1;32m    350\u001b[0m \u001b[43m    \u001b[49m\u001b[43mop_flags\u001b[49m\u001b[38;5;241;43m=\u001b[39;49m\u001b[43m[\u001b[49m\u001b[38;5;124;43m'\u001b[39;49m\u001b[38;5;124;43mreadonly\u001b[39;49m\u001b[38;5;124;43m'\u001b[39;49m\u001b[43m]\u001b[49m\u001b[43m,\u001b[49m\u001b[43m \u001b[49m\u001b[43mitershape\u001b[49m\u001b[38;5;241;43m=\u001b[39;49m\u001b[43mshape\u001b[49m\u001b[43m,\u001b[49m\u001b[43m \u001b[49m\u001b[43morder\u001b[49m\u001b[38;5;241;43m=\u001b[39;49m\u001b[38;5;124;43m'\u001b[39;49m\u001b[38;5;124;43mC\u001b[39;49m\u001b[38;5;124;43m'\u001b[39;49m\u001b[43m)\u001b[49m\n\u001b[1;32m    351\u001b[0m \u001b[38;5;28;01mwith\u001b[39;00m it:\n\u001b[1;32m    352\u001b[0m     \u001b[38;5;66;03m# never really has writebackifcopy semantics\u001b[39;00m\n\u001b[1;32m    353\u001b[0m     broadcast \u001b[38;5;241m=\u001b[39m it\u001b[38;5;241m.\u001b[39mitviews[\u001b[38;5;241m0\u001b[39m]\n",
      "\u001b[0;31mValueError\u001b[0m: operands could not be broadcast together with remapped shapes [original->remapped]: (1000,)  and requested shape (1000,1)"
     ]
    },
    {
     "data": {
      "image/png": "[encoded data removed]",
      "text/plain": [
       "<Figure size 432x288 with 1 Axes>"
      ]
     },
     "metadata": {
      "needs_background": "light"
     },
     "output_type": "display_data"
    }
   ],
   "source": [
    "targets = targets.reshape(observations,)\n",
    "fig = plt.figure()\n",
    "ax = fig.add_subplot(111, projection='3d')\n",
    "ax.plot(xs, zs, targets)\n",
    "ax.set_xlabel('xs')\n",
    "ax.set_ylabel('zs')\n",
    "ax.set_zlabel('Targets')\n",
    "ax.view_init(azim=100)\n",
    "plt.show()\n",
    "targets = targets.reshape(observations,1)"
   ]
  },
  {
   "cell_type": "code",
   "execution_count": 15,
   "id": "6b443dd0",
   "metadata": {},
   "outputs": [],
   "source": [
    "# targets = targets.reshape(observations,1)"
   ]
  },
  {
   "cell_type": "code",
   "execution_count": 16,
   "id": "b193f53a",
   "metadata": {},
   "outputs": [
    {
     "name": "stdout",
     "output_type": "stream",
     "text": [
      "[[0.00209489]\n",
      " [0.0016232 ]]\n",
      "[-0.0037399]\n"
     ]
    }
   ],
   "source": [
    "init_range = 0.01\n",
    "weights = np.random.uniform(low = -init_range, high = init_range, size = (2,1))\n",
    "biases = np.random.uniform(-init_range, init_range, size = 1)\n",
    "print (weights)\n",
    "print(biases)"
   ]
  },
  {
   "cell_type": "code",
   "execution_count": 17,
   "id": "38972c9f",
   "metadata": {},
   "outputs": [],
   "source": [
    "# Set a learning rate"
   ]
  },
  {
   "cell_type": "code",
   "execution_count": 18,
   "id": "4f16b87e",
   "metadata": {},
   "outputs": [],
   "source": [
    "learning_rate = 0.02"
   ]
  },
  {
   "cell_type": "code",
   "execution_count": 19,
   "id": "11d1beff",
   "metadata": {},
   "outputs": [],
   "source": [
    "# Train the model"
   ]
  },
  {
   "cell_type": "code",
   "execution_count": 20,
   "id": "f784b9d7",
   "metadata": {},
   "outputs": [
    {
     "name": "stdout",
     "output_type": "stream",
     "text": [
      "232633.39591284358\n",
      "4029674.3534167456\n",
      "1374916266.3098514\n",
      "496297508208.56573\n",
      "179175095467164.62\n",
      "6.468646039561726e+16\n",
      "2.3353346918872703e+19\n",
      "8.431112306649474e+21\n",
      "3.043831574732079e+24\n",
      "1.0988954147875483e+27\n",
      "3.967273165393154e+29\n",
      "1.432279738094231e+32\n",
      "5.170869669500014e+34\n",
      "1.866806631959498e+37\n",
      "6.739614849865148e+39\n",
      "2.433160861274912e+42\n",
      "8.784287987849233e+44\n",
      "3.171336374901272e+47\n",
      "1.1449276727588703e+50\n",
      "4.133460538035332e+52\n",
      "1.4922773224901924e+55\n",
      "5.38747518387332e+57\n",
      "1.945006361714083e+60\n",
      "7.021934427526093e+62\n",
      "2.5350849269728245e+65\n",
      "9.152258046973785e+67\n",
      "3.30418229650476e+70\n",
      "1.192888202288547e+73\n",
      "4.306609428494506e+75\n",
      "1.5547881799833133e+78\n",
      "5.613154210412999e+80\n",
      "2.0264818446339953e+83\n",
      "7.316080251301427e+85\n",
      "2.6412785481011812e+88\n",
      "9.535642214174006e+90\n",
      "3.4425930768303845e+93\n",
      "1.242857777845758e+96\n",
      "4.48701145176851e+98\n",
      "1.6199175905065142e+101\n",
      "5.848286834655059e+103\n",
      "2.111370300615436e+106\n",
      "7.622547717572496e+108\n",
      "2.751920574507147e+111\n",
      "9.935086179831084e+113\n",
      "3.58680182542508e+116\n",
      "1.2949205575075763e+119\n",
      "4.674970438482498e+121\n",
      "1.6877752441239916e+124\n",
      "6.093269063755737e+126\n",
      "2.1998146976372583e+129\n",
      "7.941852974662759e+131\n",
      "2.86719734798136e+134\n",
      "1.0351262682019673e+137\n",
      "3.7370514166947983e+139\n",
      "1.3491642246968575e+142\n",
      "4.8708029465962525e+144\n",
      "1.7584754257697142e+147\n",
      "6.348513493441274e+149\n",
      "2.2919639925456633e+152\n",
      "8.274533792127705e+154\n",
      "2.98730301609218e+157\n",
      "1.0784872639523927e+160\n",
      "3.893594898950239e+162\n",
      "1.4056801358574566e+165\n",
      "5.074838794546844e+167\n",
      "1.8321372077245605e+170\n",
      "6.614450002896084e+172\n",
      "2.3879733819253032e+175\n",
      "8.62115046645907e+177\n",
      "3.1124398591664137e+180\n",
      "1.1236646332315607e+183\n",
      "4.056695920587464e+185\n",
      "1.4645634743155263e+188\n",
      "5.287421616724354e+190\n",
      "1.908884650156236e+193\n",
      "6.891526478759445e+195\n",
      "2.4880045634792744e+198\n",
      "8.982286764728505e+200\n",
      "3.242818630967076e+203\n",
      "1.1707344631481514e+206\n",
      "4.226629174120796e+208\n",
      "1.5259134105859476e+211\n",
      "5.508909442216165e+213\n",
      "1.9888470100596874e+216\n",
      "7.180209569449933e+218\n",
      "2.592226008358135e+221\n",
      "9.358550907760103e+223\n",
      "3.378658913641968e+226\n",
      "1.2197760280672036e+229\n",
      "4.403680858816239e+231\n",
      "1.589833269393955e+234\n",
      "5.739675297794651e+236\n",
      "2.0721589589499764e+239\n",
      "7.480985471088343e+241\n",
      "2.7008132448967193e+244\n",
      "9.75057659448756e+246\n",
      "3.520189487540974e+249\n",
      "1.2708719231229477e+252\n",
      "4.588149162704454e+254\n",
      "1.656430703693269e+257\n"
     ]
    }
   ],
   "source": [
    "for i in range (100):\n",
    "    outputs = np.dot(inputs,weights) + biases\n",
    "    deltas = outputs - targets\n",
    "    loss = np.sum(deltas**2)/2/observations\n",
    "    print(loss)\n",
    "    deltas_scaled = deltas/observations\n",
    "    weights = weights - learning_rate*np.dot(inputs.T, deltas_scaled)\n",
    "    biases = biases - learning_rate*np.sum(deltas_scaled)"
   ]
  },
  {
   "cell_type": "code",
   "execution_count": 21,
   "id": "7c1fade9",
   "metadata": {},
   "outputs": [],
   "source": [
    "# Print weights and biases"
   ]
  },
  {
   "cell_type": "code",
   "execution_count": 22,
   "id": "6ab55711",
   "metadata": {},
   "outputs": [
    {
     "name": "stdout",
     "output_type": "stream",
     "text": [
      "[[-1.80584069e+124 -1.80584069e+124 -1.80584069e+124 ... -1.80584069e+124\n",
      "  -1.80584069e+124 -1.80584069e+124]\n",
      " [-5.94584356e+124 -5.94584356e+124 -5.94584356e+124 ... -5.94584356e+124\n",
      "  -5.94584356e+124 -5.94584356e+124]] [-3.45824467e+128]\n"
     ]
    }
   ],
   "source": [
    "print(weights,biases)"
   ]
  },
  {
   "cell_type": "code",
   "execution_count": 23,
   "id": "8c77bb98",
   "metadata": {},
   "outputs": [],
   "source": [
    "# Plot last outputs vs targets"
   ]
  },
  {
   "cell_type": "code",
   "execution_count": 24,
   "id": "193c1989",
   "metadata": {},
   "outputs": [
    {
     "data": {
      "image/png": "[encoded data removed]",
      "text/plain": [
       "<Figure size 432x288 with 1 Axes>"
      ]
     },
     "metadata": {
      "needs_background": "light"
     },
     "output_type": "display_data"
    }
   ],
   "source": [
    "plt.plot(outputs,targets)\n",
    "plt.xlabel('outputs')\n",
    "plt.ylabel('targets')\n",
    "plt.show()"
   ]
  },
  {
   "cell_type": "code",
   "execution_count": null,
   "id": "912c8e1d",
   "metadata": {},
   "outputs": [],
   "source": []
  }
 ],
 "metadata": {
  "kernelspec": {
   "display_name": "Python 3 (ipykernel)",
   "language": "python",
   "name": "python3"
  },
  "language_info": {
   "codemirror_mode": {
    "name": "ipython",
    "version": 3
   },
   "file_extension": ".py",
   "mimetype": "text/x-python",
   "name": "python",
   "nbconvert_exporter": "python",
   "pygments_lexer": "ipython3",
   "version": "3.9.12"
  }
 },
 "nbformat": 4,
 "nbformat_minor": 5
}
