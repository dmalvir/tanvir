{
 "cells": [
  {
   "cell_type": "code",
   "execution_count": 1,
   "id": "c27c25fd",
   "metadata": {},
   "outputs": [],
   "source": [
    "# I have a data from an Audiobook app. Logically, it relates only to the audio versions of books. \n",
    "# Each customer in the database has made a purchase at least once, that's why he/she is in the database. \n",
    "# I want to create a machine learning algorithm based on my available data that can predict if \n",
    "# a customer will buy again from the Audiobook company.\n",
    "# The main idea is that if a customer has a low probability of coming back, there is no reason to spend any money on \n",
    "# advertizing to him/her. \n",
    "# If I can focus my efforts ONLY on customers that are likely to convert again, the company can make great savings. \n",
    "# Moreover, this model can identify the most important metrics for a customer to come back again. \n",
    "# Identifying new customers creates value and growth opportunities.\n",
    "# I have a .csv summarizing the data. \n",
    "# There are several variables: Customer ID, Book length in mins_avg (average of all purchases), Book length in \n",
    "# minutes_sum (sum of all purchases), Price Paid_avg (average of all purchases), Price paid_sum (sum of all purchases),\n",
    "# review (a Boolean variable), Review (out of 10), Total minutes listened, Completion (from 0 to 1), Support requests \n",
    "# (number), and Last visited minus purchase date (in days). So these are the inputs (excluding customer ID, as it is \n",
    "# completely arbitrary. It's more like a name, than a number).\n",
    "# The targets are a Boolean variable (so 0, or 1). \n",
    "# I am taking a period of 2 years in our inputs, and the next 6 months as targets. \n",
    "# So, in fact, I am predicting if: based on the last 2 years of activity and engagement, a customer will convert in \n",
    "# the next 6 months. 6 months sounds like a reasonable time. \n",
    "# If they don't convert after 6 months, chances are they've gone to a competitor or didn't like the Audiobook way of \n",
    "# digesting information.\n",
    "# The task is: create a machine learning algorithm, which is able to predict if a customer will buy again.\n",
    "# This is a classification problem with two classes: won't buy and will buy, represented by 0s and 1s."
   ]
  },
  {
   "cell_type": "code",
   "execution_count": 2,
   "id": "6b75e14b",
   "metadata": {},
   "outputs": [],
   "source": [
    "# Create the machine learning algorithm"
   ]
  },
  {
   "cell_type": "code",
   "execution_count": 3,
   "id": "7fb5147b",
   "metadata": {},
   "outputs": [],
   "source": [
    "# Import the relevant libraries"
   ]
  },
  {
   "cell_type": "code",
   "execution_count": 4,
   "id": "0721403d",
   "metadata": {},
   "outputs": [],
   "source": [
    "import numpy as np\n",
    "import tensorflow as tf"
   ]
  },
  {
   "cell_type": "code",
   "execution_count": 5,
   "id": "3607f708",
   "metadata": {},
   "outputs": [],
   "source": [
    "# let's create a temporary variable npz, where we will store each of the three Audiobooks datasets"
   ]
  },
  {
   "cell_type": "code",
   "execution_count": 6,
   "id": "5bcd2242",
   "metadata": {},
   "outputs": [],
   "source": [
    "npz = np.load('Audiobooks_data_train.npz')"
   ]
  },
  {
   "cell_type": "code",
   "execution_count": 7,
   "id": "28b24f6c",
   "metadata": {},
   "outputs": [],
   "source": [
    "# I extract the inputs using the keyword under which I saved them\n",
    "# to ensure that they are all floats, let's also take care of that"
   ]
  },
  {
   "cell_type": "code",
   "execution_count": 8,
   "id": "dc6f916e",
   "metadata": {},
   "outputs": [
    {
     "name": "stderr",
     "output_type": "stream",
     "text": [
      "/Users/dmalvir/opt/anaconda3/envs/py3-TF2.0/lib/python3.7/site-packages/ipykernel_launcher.py:1: DeprecationWarning: `np.float` is a deprecated alias for the builtin `float`. To silence this warning, use `float` by itself. Doing this will not modify any behavior and is safe. If you specifically wanted the numpy scalar type, use `np.float64` here.\n",
      "Deprecated in NumPy 1.20; for more details and guidance: https://numpy.org/devdocs/release/1.20.0-notes.html#deprecations\n",
      "  \"\"\"Entry point for launching an IPython kernel.\n"
     ]
    }
   ],
   "source": [
    "train_inputs = npz['inputs'].astype(np.float)"
   ]
  },
  {
   "cell_type": "code",
   "execution_count": 9,
   "id": "5fe4933a",
   "metadata": {},
   "outputs": [],
   "source": [
    "# targets must be int because of sparse_categorical_crossentropy (we want to be able to smoothly one-hot encode them)"
   ]
  },
  {
   "cell_type": "code",
   "execution_count": 10,
   "id": "e6153446",
   "metadata": {},
   "outputs": [
    {
     "name": "stderr",
     "output_type": "stream",
     "text": [
      "/Users/dmalvir/opt/anaconda3/envs/py3-TF2.0/lib/python3.7/site-packages/ipykernel_launcher.py:1: DeprecationWarning: `np.int` is a deprecated alias for the builtin `int`. To silence this warning, use `int` by itself. Doing this will not modify any behavior and is safe. When replacing `np.int`, you may wish to use e.g. `np.int64` or `np.int32` to specify the precision. If you wish to review your current use, check the release note link for additional information.\n",
      "Deprecated in NumPy 1.20; for more details and guidance: https://numpy.org/devdocs/release/1.20.0-notes.html#deprecations\n",
      "  \"\"\"Entry point for launching an IPython kernel.\n"
     ]
    }
   ],
   "source": [
    "train_targets = npz['targets'].astype(np.int)"
   ]
  },
  {
   "cell_type": "code",
   "execution_count": 11,
   "id": "219f7632",
   "metadata": {},
   "outputs": [],
   "source": [
    "# we load the validation data in the temporary variable"
   ]
  },
  {
   "cell_type": "code",
   "execution_count": 12,
   "id": "b17b2c54",
   "metadata": {},
   "outputs": [],
   "source": [
    "npz = np.load('Audiobooks_data_validation.npz')"
   ]
  },
  {
   "cell_type": "code",
   "execution_count": 13,
   "id": "0e27ef15",
   "metadata": {},
   "outputs": [],
   "source": [
    "# we can load the inputs and the targets in the same line"
   ]
  },
  {
   "cell_type": "code",
   "execution_count": 14,
   "id": "efca6ca0",
   "metadata": {},
   "outputs": [
    {
     "name": "stderr",
     "output_type": "stream",
     "text": [
      "/Users/dmalvir/opt/anaconda3/envs/py3-TF2.0/lib/python3.7/site-packages/ipykernel_launcher.py:1: DeprecationWarning: `np.float` is a deprecated alias for the builtin `float`. To silence this warning, use `float` by itself. Doing this will not modify any behavior and is safe. If you specifically wanted the numpy scalar type, use `np.float64` here.\n",
      "Deprecated in NumPy 1.20; for more details and guidance: https://numpy.org/devdocs/release/1.20.0-notes.html#deprecations\n",
      "  \"\"\"Entry point for launching an IPython kernel.\n",
      "/Users/dmalvir/opt/anaconda3/envs/py3-TF2.0/lib/python3.7/site-packages/ipykernel_launcher.py:1: DeprecationWarning: `np.int` is a deprecated alias for the builtin `int`. To silence this warning, use `int` by itself. Doing this will not modify any behavior and is safe. When replacing `np.int`, you may wish to use e.g. `np.int64` or `np.int32` to specify the precision. If you wish to review your current use, check the release note link for additional information.\n",
      "Deprecated in NumPy 1.20; for more details and guidance: https://numpy.org/devdocs/release/1.20.0-notes.html#deprecations\n",
      "  \"\"\"Entry point for launching an IPython kernel.\n"
     ]
    }
   ],
   "source": [
    "validation_inputs, validation_targets = npz['inputs'].astype(np.float), npz['targets'].astype(np.int)"
   ]
  },
  {
   "cell_type": "code",
   "execution_count": 15,
   "id": "b5a7fdf0",
   "metadata": {},
   "outputs": [],
   "source": [
    "# we load the test data in the temporary variable"
   ]
  },
  {
   "cell_type": "code",
   "execution_count": 16,
   "id": "777fe3b7",
   "metadata": {},
   "outputs": [],
   "source": [
    "npz = np.load('Audiobooks_data_test.npz')"
   ]
  },
  {
   "cell_type": "code",
   "execution_count": 17,
   "id": "8330766d",
   "metadata": {},
   "outputs": [],
   "source": [
    "# we create 2 variables that will contain the test inputs and the test targets"
   ]
  },
  {
   "cell_type": "code",
   "execution_count": 18,
   "id": "b6726463",
   "metadata": {},
   "outputs": [
    {
     "name": "stderr",
     "output_type": "stream",
     "text": [
      "/Users/dmalvir/opt/anaconda3/envs/py3-TF2.0/lib/python3.7/site-packages/ipykernel_launcher.py:1: DeprecationWarning: `np.float` is a deprecated alias for the builtin `float`. To silence this warning, use `float` by itself. Doing this will not modify any behavior and is safe. If you specifically wanted the numpy scalar type, use `np.float64` here.\n",
      "Deprecated in NumPy 1.20; for more details and guidance: https://numpy.org/devdocs/release/1.20.0-notes.html#deprecations\n",
      "  \"\"\"Entry point for launching an IPython kernel.\n",
      "/Users/dmalvir/opt/anaconda3/envs/py3-TF2.0/lib/python3.7/site-packages/ipykernel_launcher.py:1: DeprecationWarning: `np.int` is a deprecated alias for the builtin `int`. To silence this warning, use `int` by itself. Doing this will not modify any behavior and is safe. When replacing `np.int`, you may wish to use e.g. `np.int64` or `np.int32` to specify the precision. If you wish to review your current use, check the release note link for additional information.\n",
      "Deprecated in NumPy 1.20; for more details and guidance: https://numpy.org/devdocs/release/1.20.0-notes.html#deprecations\n",
      "  \"\"\"Entry point for launching an IPython kernel.\n"
     ]
    }
   ],
   "source": [
    "test_inputs, test_targets = npz['inputs'].astype(np.float), npz['targets'].astype(np.int)"
   ]
  },
  {
   "cell_type": "code",
   "execution_count": 19,
   "id": "08d75316",
   "metadata": {},
   "outputs": [],
   "source": [
    "# Model the data"
   ]
  },
  {
   "cell_type": "code",
   "execution_count": 20,
   "id": "de5c7e71",
   "metadata": {},
   "outputs": [],
   "source": [
    "# Outline, optimizers, loss, early stopping and training"
   ]
  },
  {
   "cell_type": "code",
   "execution_count": 21,
   "id": "4e2f12b3",
   "metadata": {},
   "outputs": [],
   "source": [
    "# Set the input and output sizes"
   ]
  },
  {
   "cell_type": "code",
   "execution_count": 22,
   "id": "e5340b53",
   "metadata": {},
   "outputs": [],
   "source": [
    "input_size = 10\n",
    "output_size = 2"
   ]
  },
  {
   "cell_type": "code",
   "execution_count": 23,
   "id": "66f84677",
   "metadata": {},
   "outputs": [],
   "source": [
    "# Use same hidden layer size for both hidden layers. Not a necessity."
   ]
  },
  {
   "cell_type": "code",
   "execution_count": 24,
   "id": "8b4ffbb9",
   "metadata": {},
   "outputs": [],
   "source": [
    "hidden_layer_size = 50"
   ]
  },
  {
   "cell_type": "code",
   "execution_count": 25,
   "id": "79261a35",
   "metadata": {},
   "outputs": [],
   "source": [
    "# define how the model will look like"
   ]
  },
  {
   "cell_type": "code",
   "execution_count": 26,
   "id": "52ef200f",
   "metadata": {},
   "outputs": [],
   "source": [
    "model = tf.keras.Sequential([\n",
    "\n",
    "    tf.keras.layers.Dense(hidden_layer_size, activation='relu'), \n",
    "    tf.keras.layers.Dense(hidden_layer_size, activation='relu'), \n",
    "    tf.keras.layers.Dense(output_size, activation='softmax')\n",
    "])\n"
   ]
  },
  {
   "cell_type": "code",
   "execution_count": 27,
   "id": "124498e2",
   "metadata": {},
   "outputs": [],
   "source": [
    "### Choose the optimizer and the loss function\n",
    "\n",
    "# we define the optimizer we'd like to use, the loss function, and the metrics we are interested in obtaining at each iteration\n"
   ]
  },
  {
   "cell_type": "code",
   "execution_count": 28,
   "id": "861e4604",
   "metadata": {},
   "outputs": [],
   "source": [
    "model.compile(optimizer='adam', loss='sparse_categorical_crossentropy', metrics=['accuracy'])"
   ]
  },
  {
   "cell_type": "code",
   "execution_count": 29,
   "id": "c750747a",
   "metadata": {},
   "outputs": [],
   "source": [
    "### Training the data\n",
    "# That's where I train the model I have built.\n",
    "# set the batch size"
   ]
  },
  {
   "cell_type": "code",
   "execution_count": 30,
   "id": "6fded07a",
   "metadata": {},
   "outputs": [],
   "source": [
    "batch_size = 100"
   ]
  },
  {
   "cell_type": "code",
   "execution_count": 31,
   "id": "1f8f6cbd",
   "metadata": {},
   "outputs": [],
   "source": [
    "# set a maximum number of training epochs"
   ]
  },
  {
   "cell_type": "code",
   "execution_count": 32,
   "id": "090e7553",
   "metadata": {},
   "outputs": [],
   "source": [
    "max_epochs = 100"
   ]
  },
  {
   "cell_type": "code",
   "execution_count": 33,
   "id": "a8301007",
   "metadata": {},
   "outputs": [],
   "source": [
    "# set an early stopping mechanism\n",
    "# let's set patience=2, to be a bit tolerant against random validation loss increases"
   ]
  },
  {
   "cell_type": "code",
   "execution_count": 34,
   "id": "8054a972",
   "metadata": {},
   "outputs": [],
   "source": [
    "early_stopping = tf.keras.callbacks.EarlyStopping(patience=2)"
   ]
  },
  {
   "cell_type": "code",
   "execution_count": 35,
   "id": "42ee068d",
   "metadata": {},
   "outputs": [],
   "source": [
    "# fit the model\n",
    "# note that this time the train, validation and test data are not iterable"
   ]
  },
  {
   "cell_type": "code",
   "execution_count": 36,
   "id": "7ec104c4",
   "metadata": {},
   "outputs": [
    {
     "name": "stderr",
     "output_type": "stream",
     "text": [
      "2022-10-06 23:20:43.963615: I tensorflow/core/platform/cpu_feature_guard.cc:145] This TensorFlow binary is optimized with Intel(R) MKL-DNN to use the following CPU instructions in performance critical operations:  SSE4.1 SSE4.2\n",
      "To enable them in non-MKL-DNN operations, rebuild TensorFlow with the appropriate compiler flags.\n",
      "2022-10-06 23:20:43.964063: I tensorflow/core/common_runtime/process_util.cc:115] Creating new thread pool with default inter op setting: 8. Tune using inter_op_parallelism_threads for best performance.\n"
     ]
    },
    {
     "name": "stdout",
     "output_type": "stream",
     "text": [
      "Train on 3579 samples, validate on 447 samples\n",
      "Epoch 1/100\n",
      "3579/3579 - 1s - loss: 0.6689 - accuracy: 0.6208 - val_loss: 0.5597 - val_accuracy: 0.7136\n",
      "Epoch 2/100\n",
      "3579/3579 - 0s - loss: 0.5132 - accuracy: 0.7502 - val_loss: 0.4618 - val_accuracy: 0.7427\n",
      "Epoch 3/100\n",
      "3579/3579 - 0s - loss: 0.4471 - accuracy: 0.7659 - val_loss: 0.4200 - val_accuracy: 0.7740\n",
      "Epoch 4/100\n",
      "3579/3579 - 0s - loss: 0.4161 - accuracy: 0.7860 - val_loss: 0.3931 - val_accuracy: 0.7718\n",
      "Epoch 5/100\n",
      "3579/3579 - 0s - loss: 0.3998 - accuracy: 0.7910 - val_loss: 0.3786 - val_accuracy: 0.7897\n",
      "Epoch 6/100\n",
      "3579/3579 - 0s - loss: 0.3897 - accuracy: 0.7977 - val_loss: 0.3696 - val_accuracy: 0.8009\n",
      "Epoch 7/100\n",
      "3579/3579 - 0s - loss: 0.3818 - accuracy: 0.7938 - val_loss: 0.3665 - val_accuracy: 0.7785\n",
      "Epoch 8/100\n",
      "3579/3579 - 0s - loss: 0.3766 - accuracy: 0.7977 - val_loss: 0.3582 - val_accuracy: 0.8009\n",
      "Epoch 9/100\n",
      "3579/3579 - 0s - loss: 0.3725 - accuracy: 0.8016 - val_loss: 0.3562 - val_accuracy: 0.8277\n",
      "Epoch 10/100\n",
      "3579/3579 - 0s - loss: 0.3687 - accuracy: 0.8036 - val_loss: 0.3520 - val_accuracy: 0.8233\n",
      "Epoch 11/100\n",
      "3579/3579 - 0s - loss: 0.3657 - accuracy: 0.8047 - val_loss: 0.3501 - val_accuracy: 0.8098\n",
      "Epoch 12/100\n",
      "3579/3579 - 0s - loss: 0.3658 - accuracy: 0.8066 - val_loss: 0.3455 - val_accuracy: 0.8322\n",
      "Epoch 13/100\n",
      "3579/3579 - 0s - loss: 0.3632 - accuracy: 0.8061 - val_loss: 0.3447 - val_accuracy: 0.8121\n",
      "Epoch 14/100\n",
      "3579/3579 - 0s - loss: 0.3598 - accuracy: 0.8069 - val_loss: 0.3425 - val_accuracy: 0.8188\n",
      "Epoch 15/100\n",
      "3579/3579 - 0s - loss: 0.3593 - accuracy: 0.8080 - val_loss: 0.3402 - val_accuracy: 0.8277\n",
      "Epoch 16/100\n",
      "3579/3579 - 0s - loss: 0.3569 - accuracy: 0.8094 - val_loss: 0.3380 - val_accuracy: 0.8255\n",
      "Epoch 17/100\n",
      "3579/3579 - 0s - loss: 0.3550 - accuracy: 0.8092 - val_loss: 0.3389 - val_accuracy: 0.8166\n",
      "Epoch 18/100\n",
      "3579/3579 - 0s - loss: 0.3553 - accuracy: 0.8075 - val_loss: 0.3387 - val_accuracy: 0.8255\n"
     ]
    },
    {
     "data": {
      "text/plain": [
       "<tensorflow.python.keras.callbacks.History at 0x7f8bf825e410>"
      ]
     },
     "execution_count": 36,
     "metadata": {},
     "output_type": "execute_result"
    }
   ],
   "source": [
    "model.fit(train_inputs, \n",
    "          train_targets, \n",
    "          batch_size=batch_size, \n",
    "          epochs=max_epochs, \n",
    "          callbacks=[early_stopping], \n",
    "          validation_data=(validation_inputs, validation_targets), \n",
    "          verbose = 2 \n",
    "          )"
   ]
  },
  {
   "cell_type": "code",
   "execution_count": 37,
   "id": "56f77d44",
   "metadata": {},
   "outputs": [],
   "source": [
    "# Test the model"
   ]
  },
  {
   "cell_type": "code",
   "execution_count": 38,
   "id": "12cc7958",
   "metadata": {},
   "outputs": [
    {
     "name": "stdout",
     "output_type": "stream",
     "text": [
      "448/1 [================================================================================================================================================================================================================================================================================================================================================================================================================================================================================================================================================================================================================================================================================================================================================================================================================================================================================================================================================================================================================================================================================================================================================================================================================================================================================================================================================================================================================================================================================================================================================================================================================================================================================================================================================================================================================================================================================================================================================================================================================================================================================================================================================================================================================================================================================================================================================================================================================================================================================================================================================================================================================================================================================================================================================================================================================================================================================================================================================================================================================================================================================================================================================================================================================================================================================================================================================================================================================================================================================================================================================================================================================================================================================================================================================================================================================================================================================================================================================================================================================================================================================================================================================================================================================================================================================================================================================================================================================================================================================================================================================================================================================================================================================================================================================================================================================================================================================================================================================================================================================================================================================================================================================================================================================================================================================================================================================================================================================================================================================================================================================================================================================================================================================================================================================================================================================================================================================================================================================================================================================================================================================================================================================================================================================================================================================================================================================================================================================================================================================================================================================================================================================================================================================================================================================================================================================================================================================================================================================================================================================================================================================================================================================================================================================================================================================================================================================================================================================================================================================================================================================================================================================================================================================================================================================================================================================================================================================================================================================================================================================================================================================================================================================================================================================================================================================================================================================================================================================================================================================================================================================================================================================================================================================================================================================================================================================================================================================================================================================================================================================================================================================================================================================================================================================================================================================================================================================================================================================================================================================================================================================================================================================================================================================================================================================================================================================================================================================================================================================================================================================================================================================================================================================================================================================================================================================================================================================================================================================================================================================================================================================================================================================================================================================================================================================================================================================================================================================================================================================================================================================================================================================================================================================================================================================================================================================================================================================================================================================================================================================================================================================================================================================================================================================================================================================================================================================================================================================================================================================================================================================================================================================================================================================================================================================================================================================================================================================================================================================================================================================================================================================================================================================================================================================================================================================================================================================================================================================================================================================================================================================================================================================================================================================================================================================================================================================================================================================================================================================================================================================================================================================================================================================================================================================================================================================================================================================================================================================================================================================================================================] - 0s 209us/sample - loss: 0.3851 - accuracy: 0.7924\n"
     ]
    }
   ],
   "source": [
    "test_loss, test_accuracy = model.evaluate(test_inputs, test_targets)"
   ]
  },
  {
   "cell_type": "code",
   "execution_count": 39,
   "id": "e31e7a6e",
   "metadata": {},
   "outputs": [
    {
     "name": "stdout",
     "output_type": "stream",
     "text": [
      "\n",
      "Test loss: 0.38. Test accuracy: 79.24%\n"
     ]
    }
   ],
   "source": [
    "print('\\nTest loss: {0:.2f}. Test accuracy: {1:.2f}%'.format(test_loss, test_accuracy*100.))"
   ]
  },
  {
   "cell_type": "code",
   "execution_count": null,
   "id": "96b7eb8c",
   "metadata": {},
   "outputs": [],
   "source": []
  }
 ],
 "metadata": {
  "kernelspec": {
   "display_name": "Python [conda env:py3-TF2.0]",
   "language": "python",
   "name": "conda-env-py3-TF2.0-py"
  },
  "language_info": {
   "codemirror_mode": {
    "name": "ipython",
    "version": 3
   },
   "file_extension": ".py",
   "mimetype": "text/x-python",
   "name": "python",
   "nbconvert_exporter": "python",
   "pygments_lexer": "ipython3",
   "version": "3.7.13"
  }
 },
 "nbformat": 4,
 "nbformat_minor": 5
}
